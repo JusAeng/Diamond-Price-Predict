for i in range(data):
#     ssr.append((data["y_predicted"][i]-ymean)**2)
#     sst.append((data["price"][i]-ymean)**2)